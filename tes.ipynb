{
 "cells": [
  {
   "cell_type": "code",
   "execution_count": 2,
   "metadata": {},
   "outputs": [
    {
     "name": "stderr",
     "output_type": "stream",
     "text": [
      "<>:3: SyntaxWarning: invalid escape sequence '\\d'\n",
      "<>:3: SyntaxWarning: invalid escape sequence '\\d'\n",
      "/tmp/ipykernel_39311/2085973261.py:3: SyntaxWarning: invalid escape sequence '\\d'\n",
      "  latex_code = \"\"\"\\begin{tikzpicture}[overlay, remember picture]\n"
     ]
    },
    {
     "data": {
      "text/latex": [
       "\begin{tikzpicture}[overlay, remember picture]\n",
       "        % Draw a box with given coordinates and size\n",
       "        \\\\draw[fill=blue!20, draw=black] (0,0) rectangle (1,1);\n",
       "\n",
       "        % Left-aligned text inside the box\n",
       "        \n",
       "ode[anchor=west] at (0,0) {Your left-aligned text goes here.};\n",
       "    \\\\end{tikzpicture}"
      ],
      "text/plain": [
       "<IPython.core.display.Latex object>"
      ]
     },
     "metadata": {},
     "output_type": "display_data"
    }
   ],
   "source": [
    "from IPython.display import display, Latex\n",
    "\n",
    "latex_code = \"\"\"\\begin{tikzpicture}[overlay, remember picture]\n",
    "        % Draw a box with given coordinates and size\n",
    "        \\draw[fill=blue!20, draw=black] (0,0) rectangle (1,1);\n",
    "        \n",
    "        % Left-aligned text inside the box\n",
    "        \\node[anchor=west] at (0,0) {Your left-aligned text goes here.};\n",
    "    \\end{tikzpicture}\"\"\"\n",
    "\n",
    "    # Display the LaTeX code in the notebook\n",
    "display(Latex(latex_code.replace(\"\\\\\", \"\\\\\\\\\")))"
   ]
  },
  {
   "cell_type": "code",
   "execution_count": null,
   "metadata": {},
   "outputs": [],
   "source": []
  }
 ],
 "metadata": {
  "kernelspec": {
   "display_name": "venv",
   "language": "python",
   "name": "python3"
  },
  "language_info": {
   "codemirror_mode": {
    "name": "ipython",
    "version": 3
   },
   "file_extension": ".py",
   "mimetype": "text/x-python",
   "name": "python",
   "nbconvert_exporter": "python",
   "pygments_lexer": "ipython3",
   "version": "3.12.3"
  }
 },
 "nbformat": 4,
 "nbformat_minor": 2
}
